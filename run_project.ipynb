{
 "cells": [
  {
   "cell_type": "code",
   "execution_count": 1,
   "metadata": {},
   "outputs": [
    {
     "name": "stdout",
     "output_type": "stream",
     "text": [
      "pygame 2.6.1 (SDL 2.28.4, Python 3.12.8)\n",
      "Hello from the pygame community. https://www.pygame.org/contribute.html\n"
     ]
    }
   ],
   "source": [
    "%load_ext autoreload\n",
    "%autoreload 2\n",
    "\n",
    "from game import *\n",
    "from game_graphics import *\n",
    "from dqn_agent import *\n",
    "from a2c_agent import *"
   ]
  },
  {
   "cell_type": "code",
   "execution_count": 2,
   "metadata": {},
   "outputs": [
    {
     "name": "stderr",
     "output_type": "stream",
     "text": [
      "c:\\Users\\anama\\Documents\\proiecte-fmi\\2048-rl\\dqn_agent.py:89: FutureWarning: You are using `torch.load` with `weights_only=False` (the current default value), which uses the default pickle module implicitly. It is possible to construct malicious pickle data which will execute arbitrary code during unpickling (See https://github.com/pytorch/pytorch/blob/main/SECURITY.md#untrusted-models for more details). In a future release, the default value for `weights_only` will be flipped to `True`. This limits the functions that could be executed during unpickling. Arbitrary objects will no longer be allowed to be loaded via this mode unless they are explicitly allowlisted by the user via `torch.serialization.add_safe_globals`. We recommend you start setting `weights_only=True` for any use case where you don't have full control of the loaded file. Please open an issue on GitHub for any issues related to this experimental feature.\n",
      "  self.model.load_state_dict(torch.load(name, map_location=torch.device('cpu')))\n"
     ]
    },
    {
     "name": "stdout",
     "output_type": "stream",
     "text": [
      "Episode: 0,  Total Reward: 4535.3000,  Highest Tile: 256,  Score: 3488\n",
      "Episode: 1,  Total Reward: 10515.3000,  Highest Tile: 512,  Score: 7384\n",
      "Episode: 2,  Total Reward: 26463.3000,  Highest Tile: 1024,  Score: 17788\n",
      "Episode: 3,  Total Reward: 8319.3000,  Highest Tile: 512,  Score: 5080\n",
      "Episode: 4,  Total Reward: 10807.3000,  Highest Tile: 512,  Score: 7696\n",
      "Episode: 5,  Total Reward: 21559.3000,  Highest Tile: 1024,  Score: 13492\n",
      "Episode: 6,  Total Reward: 22699.3000,  Highest Tile: 1024,  Score: 14504\n",
      "Episode: 7,  Total Reward: 17915.3000,  Highest Tile: 1024,  Score: 10928\n",
      "Episode: 8,  Total Reward: 25127.3000,  Highest Tile: 1024,  Score: 16776\n",
      "Episode: 9,  Total Reward: 3527.3000,  Highest Tile: 256,  Score: 2476\n",
      "Best episode:  2\n",
      "Highest Tile:  1024\n",
      "Highest score:  17788\n",
      "Max tile 2048:  0\n",
      "Max tile 1024:  5\n",
      "Max tile 512:  3\n"
     ]
    }
   ],
   "source": [
    "dqn_agent = DQNAgent(state_size=(1, 4, 4), action_size=4, gamma=0.999, epsilon=0.4, epsilon_min=0.005, epsilon_decay=0.999, learning_rate=0.0001, batch_size=96, memory_size=60000)\n",
    "env = Game(4)\n",
    "dqn_agent.load(\"models/dqn_1.pt\")\n",
    "dqn_agent.model.eval()\n",
    "best_episode, tile, highest_score, max_tile_2048, max_tile_1024, max_tile_512 = test_dqn(dqn_agent, env, 10)\n",
    "print(\"Best episode: \", best_episode)\n",
    "print(\"Highest Tile: \", tile)\n",
    "print(\"Highest score: \", highest_score)\n",
    "print(\"Max tile 2048: \", max_tile_2048)\n",
    "print(\"Max tile 1024: \", max_tile_1024)\n",
    "print(\"Max tile 512: \", max_tile_512)"
   ]
  },
  {
   "cell_type": "code",
   "execution_count": 6,
   "metadata": {},
   "outputs": [],
   "source": [
    "# See the agent play\n",
    "play_game_agent(dqn_agent)"
   ]
  }
 ],
 "metadata": {
  "kernelspec": {
   "display_name": "env_2048",
   "language": "python",
   "name": "python3"
  },
  "language_info": {
   "codemirror_mode": {
    "name": "ipython",
    "version": 3
   },
   "file_extension": ".py",
   "mimetype": "text/x-python",
   "name": "python",
   "nbconvert_exporter": "python",
   "pygments_lexer": "ipython3",
   "version": "3.12.8"
  }
 },
 "nbformat": 4,
 "nbformat_minor": 2
}
